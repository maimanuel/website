{
 "cells": [
  {
   "cell_type": "markdown",
   "metadata": {},
   "source": [
    "# About"
   ]
  },
  {
   "cell_type": "markdown",
   "metadata": {},
   "source": [
    "## My Life Story in 102 Words"
   ]
  },
  {
   "cell_type": "markdown",
   "metadata": {},
   "source": [
    "I was born and raised in Hagen, Germany. Growing up, I enjoyed school and playing team Handball. After high school, I went to study Physics in Heidelberg and at UCONN. \n",
    "\n",
    "Bringing only one suitcase and a backpack, I moved to the US to earn a Ph.D. at Yale. Since graduating, I have worked in Data Science and Machine Learning across various industries - Fintech, Adtech, Fashion. Currently, I am at Spotify. \n",
    "\n",
    "After over 10 years in the US, I moved back to Germany. One suitcase and a backpack had turned into a small house worth of stuff, a dog, and a wife."
   ]
  },
  {
   "cell_type": "code",
   "execution_count": null,
   "metadata": {},
   "outputs": [],
   "source": [
    "#| hide\n",
    "import nbdev; nbdev.nbdev_export()"
   ]
  }
 ],
 "metadata": {
  "kernelspec": {
   "display_name": "jarvis",
   "language": "python",
   "name": "jarvis"
  }
 },
 "nbformat": 4,
 "nbformat_minor": 4
}
